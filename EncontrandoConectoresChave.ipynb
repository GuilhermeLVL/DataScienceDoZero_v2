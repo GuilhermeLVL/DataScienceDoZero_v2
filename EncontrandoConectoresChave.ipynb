{
 "cells": [
  {
   "cell_type": "markdown",
   "metadata": {},
   "source": []
  },
  {
   "cell_type": "markdown",
   "metadata": {},
   "source": [
    "# Encontrando Conectores Chave em uma Rede Social\n",
    "\n",
    "Este notebook explora conceitos básicos de análise de redes sociais, focando na identificação de \"conectores chave\" dentro de um grupo de usuários.\n",
    "\n",
    "Vamos começar definindo a estrutura de dados para nossos usuários e suas amizades."
   ]
  },
  {
   "cell_type": "code",
   "execution_count": 8,
   "metadata": {},
   "outputs": [
    {
     "name": "stdout",
     "output_type": "stream",
     "text": [
      "Amigos do usuário 0: [1, 2]\n",
      "Amigos do usuário 1: [0, 2, 3]\n",
      "Amigos do usuário 2: [0, 1, 3]\n",
      "-----------------------------------\n",
      "Amigos de amigos de Hero (id 0): [0, 2, 3, 0, 1, 3]\n",
      "Amigos de amigos de Dunn (id 1): [1, 2, 0, 1, 3, 1, 2, 4]\n"
     ]
    }
   ],
   "source": [
    "# Lista de usuários, onde cada usuário é um dicionário com 'id' e 'name'.\n",
    "users = [\n",
    "    { \"id\": 0, \"name\": \"Hero\" },\n",
    "    { \"id\": 1, \"name\": \"Dunn\" },\n",
    "    { \"id\": 2, \"name\": \"Sue\" },\n",
    "    { \"id\": 3, \"name\": \"Chi\" },\n",
    "    { \"id\": 4, \"name\": \"Thor\" },\n",
    "    { \"id\": 5, \"name\": \"Clive\" },\n",
    "    { \"id\": 6, \"name\": \"Hicks\" },\n",
    "    { \"id\": 7, \"name\": \"Devin\" },\n",
    "    { \"id\": 8, \"name\": \"Kate\" },\n",
    "    { \"id\": 9, \"name\": \"Klein\" }\n",
    "]\n",
    "\n",
    "# Pares de amizade representando as conexões entre os usuários.\n",
    "friendship_pairs = [(0, 1), (0, 2), (1, 2), (1, 3), (2, 3), (3, 4),\n",
    "                    (4, 5), (5, 6), (5, 7), (6, 8), (7, 8), (8, 9)]\n",
    "\n",
    "# Inicializa o dicionário de amizades, onde a chave é o ID do usuário e o valor é uma lista de IDs de amigos.\n",
    "# Cada usuário começa com uma lista vazia de amigos.\n",
    "friendships = {user[\"id\"]: [] for user in users}\n",
    "\n",
    "# Preenche o dicionário de amizades com base nos pares de amizade.\n",
    "# Para cada par (i, j), adiciona j como amigo de i e i como amigo de j (amizade bidirecional).\n",
    "for i, j in friendship_pairs:\n",
    "    friendships[i].append(j)  # Adiciona j como amigo do usuário i\n",
    "    friendships[j].append(i)  # Adiciona i como amigo do usuário j\n",
    "\n",
    "# Função para calcular o número de amigos de um usuário.\n",
    "def number_of_friends(user):\n",
    "    \"\"\"Retorna o número de amigos que o usuário possui.\"\"\"\n",
    "    user_id = user[\"id\"]\n",
    "    friend_ids = friendships[user_id]\n",
    "    return len(friend_ids)\n",
    "\n",
    "# Calcula o total de conexões na rede somando o número de amigos de cada usuário.\n",
    "# Nota: Cada conexão é contada duas vezes (uma para cada amigo no par), então o total de conexões\n",
    "# é o dobro do número real de amizades.\n",
    "total_connections = sum(number_of_friends(user) for user in users)\n",
    "\n",
    "# Calcula o número total de usuários.\n",
    "num_users = len(users)\n",
    "\n",
    "# Calcula a média de conexões por usuário.\n",
    "avg_connections = total_connections / num_users\n",
    "\n",
    "# Cria uma lista de tuplas (user_id, number_of_friends) para todos os usuários.\n",
    "num_friends_by_id = [(user[\"id\"], number_of_friends(user)) for user in users]\n",
    "\n",
    "# Classifica a lista de usuários pelo número de amigos em ordem decrescente.\n",
    "# Isso ajuda a identificar os \"conectores chave\" (usuários com mais amigos).\n",
    "num_friends_by_id.sort(key=lambda id_and_friends: id_and_friends[1], reverse=True)\n",
    "\n",
    "# Exemplo de impressão das conexões para alguns usuários (descomente para usar):\n",
    "print(f\"Amigos do usuário 0: {friendships[0]}\") # Exemplo: [1, 2]\n",
    "print(f\"Amigos do usuário 1: {friendships[1]}\") # Exemplo: [0, 2, 3]\n",
    "print(f\"Amigos do usuário 2: {friendships[2]}\") # Exemplo: [0, 1, 3]\n",
    "\n",
    "# Função (versão \"ruim\") para encontrar amigos de amigos (FOAF - Friend Of A Friend).\n",
    "# Esta implementação pode retornar o próprio usuário ou amigos diretos como \"amigos de amigos\".\n",
    "def foaf_ids_bad(user):\n",
    "    \"\"\"\n",
    "    Retorna uma lista de IDs de amigos de amigos (FOAF).\n",
    "    Esta versão inclui amigos diretos e o próprio usuário se houver um loop na rede.\n",
    "    \"\"\"\n",
    "    return [foaf_id\n",
    "            for friend_id in friendships[user[\"id\"]]\n",
    "            for foaf_id in friendships[friend_id]]\n",
    "\n",
    "# Exemplos de uso da função foaf_ids_bad (descomente para usar):\n",
    "print(f\"-----------------------------------\")\n",
    "print(f\"Amigos de amigos de Hero (id 0): {foaf_ids_bad(users[0])}\")\n",
    "print(f\"Amigos de amigos de Dunn (id 1): {foaf_ids_bad(users[1])}\")"
   ]
  },
  {
   "cell_type": "markdown",
   "metadata": {},
   "source": [
    "## Estrutura de Dados: Usuários e Amizades\n",
    "\n",
    "Definimos uma lista de dicionários para representar nossos `users`, onde cada dicionário contém um `id` único e um `name`.\n",
    "\n",
    "Em seguida, temos `friendship_pairs`, uma lista de tuplas que denota as amizades diretas entre os usuários, usando seus IDs.\n",
    "\n",
    "Para facilitar a consulta, transformaremos `friendship_pairs` em um dicionário `friendships`, onde cada chave será o ID de um usuário e o valor será uma lista dos IDs de seus amigos."
   ]
  },
  {
   "cell_type": "markdown",
   "metadata": {},
   "source": [
    "## Calculando Conexões\n",
    "\n",
    "Agora que temos nossa estrutura de amizades, podemos realizar algumas análises básicas:\n",
    "\n",
    "- **`number_of_friends(user)`**: Uma função simples para contar quantos amigos um usuário tem.\n",
    "- **`total_connections`**: A soma de todas as conexões na rede. Cada amizade é contada duas vezes (uma para cada pessoa envolvida no par).\n",
    "- **`avg_connections`**: A média de conexões por usuário, oferecendo uma visão geral da densidade da rede.\n"
   ]
  },
  {
   "cell_type": "markdown",
   "metadata": {},
   "source": [
    "## Amigos de Amigos (Friend Of A Friend - FOAF)\n",
    "\n",
    "Um conceito importante em análise de redes é o de \"amigos de amigos\". A função `foaf_ids_bad` demonstra uma forma simples de encontrar amigos de amigos, embora esta versão possa incluir amigos diretos ou o próprio usuário em certos cenários. Em uma análise mais robusta, precisaríamos de uma lógica para evitar esses casos indesejados.\n"
   ]
  }
 ],
 "metadata": {
  "kernelspec": {
   "display_name": "Python 3",
   "language": "python",
   "name": "python3"
  },
  "language_info": {
   "codemirror_mode": {
    "name": "ipython",
    "version": 3
   },
   "file_extension": ".py",
   "mimetype": "text/x-python",
   "name": "python",
   "nbconvert_exporter": "python",
   "pygments_lexer": "ipython3",
   "version": "3.11.11"
  }
 },
 "nbformat": 4,
 "nbformat_minor": 2
}
