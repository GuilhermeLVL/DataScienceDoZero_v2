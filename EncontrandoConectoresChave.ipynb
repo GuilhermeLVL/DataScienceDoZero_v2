{
 "cells": [
  {
   "cell_type": "markdown",
   "metadata": {},
   "source": []
  },
  {
   "cell_type": "markdown",
   "metadata": {},
   "source": [
    "# Encontrando Conectores Chave em uma Rede Social\n",
    "\n",
    "Este notebook explora conceitos básicos de análise de redes sociais, focando na identificação de \"conectores chave\" dentro de um grupo de usuários.\n",
    "\n",
    "Vamos começar definindo a estrutura de dados para nossos usuários e suas amizades."
   ]
  },
  {
   "cell_type": "code",
   "execution_count": 8,
   "metadata": {},
   "outputs": [
    {
     "name": "stdout",
     "output_type": "stream",
     "text": [
      "Amigos do usuário 0: [1, 2]\n",
      "Amigos do usuário 1: [0, 2, 3]\n",
      "Amigos do usuário 2: [0, 1, 3]\n",
      "-----------------------------------\n",
      "Amigos de amigos de Hero (id 0): [0, 2, 3, 0, 1, 3]\n",
      "Amigos de amigos de Dunn (id 1): [1, 2, 0, 1, 3, 1, 2, 4]\n"
     ]
    }
   ],
   "source": [
    "# Lista de usuários, onde cada usuário é um dicionário com 'id' e 'name'.\n",
    "users = [\n",
    "    { \"id\": 0, \"name\": \"Hero\" },\n",
    "    { \"id\": 1, \"name\": \"Dunn\" },\n",
    "    { \"id\": 2, \"name\": \"Sue\" },\n",
    "    { \"id\": 3, \"name\": \"Chi\" },\n",
    "    { \"id\": 4, \"name\": \"Thor\" },\n",
    "    { \"id\": 5, \"name\": \"Clive\" },\n",
    "    { \"id\": 6, \"name\": \"Hicks\" },\n",
    "    { \"id\": 7, \"name\": \"Devin\" },\n",
    "    { \"id\": 8, \"name\": \"Kate\" },\n",
    "    { \"id\": 9, \"name\": \"Klein\" }\n",
    "]\n",
    "\n",
    "# Pares de amizade representando as conexões entre os usuários.\n",
    "friendship_pairs = [(0, 1), (0, 2), (1, 2), (1, 3), (2, 3), (3, 4),\n",
    "                    (4, 5), (5, 6), (5, 7), (6, 8), (7, 8), (8, 9)]\n",
    "\n",
    "# Inicializa o dicionário de amizades, onde a chave é o ID do usuário e o valor é uma lista de IDs de amigos.\n",
    "# Cada usuário começa com uma lista vazia de amigos.\n",
    "friendships = {user[\"id\"]: [] for user in users}\n",
    "\n",
    "# Preenche o dicionário de amizades com base nos pares de amizade.\n",
    "# Para cada par (i, j), adiciona j como amigo de i e i como amigo de j (amizade bidirecional).\n",
    "for i, j in friendship_pairs:\n",
    "    friendships[i].append(j)  # Adiciona j como amigo do usuário i\n",
    "    friendships[j].append(i)  # Adiciona i como amigo do usuário j\n",
    "\n",
    "# Função para calcular o número de amigos de um usuário.\n",
    "def number_of_friends(user):\n",
    "    \"\"\"Retorna o número de amigos que o usuário possui.\"\"\"\n",
    "    user_id = user[\"id\"]\n",
    "    friend_ids = friendships[user_id]\n",
    "    return len(friend_ids)\n",
    "\n",
    "# Calcula o total de conexões na rede somando o número de amigos de cada usuário.\n",
    "# Nota: Cada conexão é contada duas vezes (uma para cada amigo no par), então o total de conexões\n",
    "# é o dobro do número real de amizades.\n",
    "total_connections = sum(number_of_friends(user) for user in users)\n",
    "\n",
    "# Calcula o número total de usuários.\n",
    "num_users = len(users)\n",
    "\n",
    "# Calcula a média de conexões por usuário.\n",
    "avg_connections = total_connections / num_users\n",
    "\n",
    "# Cria uma lista de tuplas (user_id, number_of_friends) para todos os usuários.\n",
    "num_friends_by_id = [(user[\"id\"], number_of_friends(user)) for user in users]\n",
    "\n",
    "# Classifica a lista de usuários pelo número de amigos em ordem decrescente.\n",
    "# Isso ajuda a identificar os \"conectores chave\" (usuários com mais amigos).\n",
    "num_friends_by_id.sort(key=lambda id_and_friends: id_and_friends[1], reverse=True)\n",
    "\n",
    "# Exemplo de impressão das conexões para alguns usuários (descomente para usar):\n",
    "print(f\"Amigos do usuário 0: {friendships[0]}\") # Exemplo: [1, 2]\n",
    "print(f\"Amigos do usuário 1: {friendships[1]}\") # Exemplo: [0, 2, 3]\n",
    "print(f\"Amigos do usuário 2: {friendships[2]}\") # Exemplo: [0, 1, 3]\n",
    "\n",
    "# Função (versão \"ruim\") para encontrar amigos de amigos (FOAF - Friend Of A Friend).\n",
    "# Esta implementação pode retornar o próprio usuário ou amigos diretos como \"amigos de amigos\".\n",
    "def foaf_ids_bad(user):\n",
    "    \"\"\"\n",
    "    Retorna uma lista de IDs de amigos de amigos (FOAF).\n",
    "    Esta versão inclui amigos diretos e o próprio usuário se houver um loop na rede.\n",
    "    \"\"\"\n",
    "    return [foaf_id\n",
    "            for friend_id in friendships[user[\"id\"]]\n",
    "            for foaf_id in friendships[friend_id]]\n",
    "\n",
    "# Exemplos de uso da função foaf_ids_bad (descomente para usar):\n",
    "print(f\"-----------------------------------\")\n",
    "print(f\"Amigos de amigos de Hero (id 0): {foaf_ids_bad(users[0])}\")\n",
    "print(f\"Amigos de amigos de Dunn (id 1): {foaf_ids_bad(users[1])}\")"
   ]
  },
  {
   "cell_type": "markdown",
   "metadata": {},
   "source": [
    "## Estrutura de Dados: Usuários e Amizades\n",
    "\n",
    "Definimos uma lista de dicionários para representar nossos `users`, onde cada dicionário contém um `id` único e um `name`.\n",
    "\n",
    "Em seguida, temos `friendship_pairs`, uma lista de tuplas que denota as amizades diretas entre os usuários, usando seus IDs.\n",
    "\n",
    "Para facilitar a consulta, transformaremos `friendship_pairs` em um dicionário `friendships`, onde cada chave será o ID de um usuário e o valor será uma lista dos IDs de seus amigos."
   ]
  },
  {
   "cell_type": "markdown",
   "metadata": {},
   "source": [
    "## Calculando Conexões\n",
    "\n",
    "Agora que temos nossa estrutura de amizades, podemos realizar algumas análises básicas:\n",
    "\n",
    "- **`number_of_friends(user)`**: Uma função simples para contar quantos amigos um usuário tem.\n",
    "- **`total_connections`**: A soma de todas as conexões na rede. Cada amizade é contada duas vezes (uma para cada pessoa envolvida no par).\n",
    "- **`avg_connections`**: A média de conexões por usuário, oferecendo uma visão geral da densidade da rede.\n"
   ]
  },
  {
   "cell_type": "markdown",
   "metadata": {},
   "source": [
    "## Amigos de Amigos (Friend Of A Friend - FOAF)\n",
    "\n",
    "Um conceito importante em análise de redes é o de \"amigos de amigos\". A função `foaf_ids_bad` demonstra uma forma simples de encontrar amigos de amigos, embora esta versão possa incluir amigos diretos ou o próprio usuário em certos cenários. Em uma análise mais robusta, precisaríamos de uma lógica para evitar esses casos indesejados.\n"
   ]
  },
  {
   "cell_type": "markdown",
   "metadata": {},
   "source": [
    "Como essas informações sobre quem é amigo de quem parecem\n",
    " ser interessantes, vamos gerar uma contagem de amigos em\n",
    " comum, porém excluindo as pessoas que o usuário já conhece:\n"
   ]
  },
  {
   "cell_type": "code",
   "execution_count": 9,
   "metadata": {},
   "outputs": [
    {
     "name": "stdout",
     "output_type": "stream",
     "text": [
      "Amigos de amigos de Chi (id 3): Counter({0: 2, 5: 1})\n"
     ]
    }
   ],
   "source": [
    "from collections import Counter # Carrega a classe Counter para contagem de elementos\n",
    "\n",
    "def friends_of_friends(user):\n",
    "    \"\"\"\n",
    "    Encontra amigos de amigos (FOAF) de um usuário, excluindo o próprio usuário\n",
    "    e seus amigos diretos.\n",
    "    Retorna um objeto Counter com os IDs dos amigos de amigos e a frequência com que aparecem.\n",
    "    \"\"\"\n",
    "    user_id = user[\"id\"]\n",
    "    return Counter(\n",
    "        foaf_id\n",
    "        for friend_id in friendships[user_id]      # Para cada amigo meu,\n",
    "        for foaf_id in friendships[friend_id]      # encontre os amigos deles\n",
    "        if foaf_id != user_id                      # que não sejam eu\n",
    "        and foaf_id not in friendships[user_id]    # e não sejam meus amigos diretos.\n",
    "    )\n",
    "\n",
    "# Exemplo de uso da função friends_of_friends:\n",
    "# Este exemplo mostra os amigos de amigos do usuário com id 3 (Chi).\n",
    "# O resultado esperado é Counter({0: 2, 5: 1}), significando que o usuário 0 é amigo de amigos de Chi duas vezes, e o usuário 5 uma vez.\n",
    "print(f\"Amigos de amigos de Chi (id 3): {friends_of_friends(users[3])}\")"
   ]
  },
  {
   "cell_type": "code",
   "execution_count": 10,
   "metadata": {},
   "outputs": [
    {
     "name": "stdout",
     "output_type": "stream",
     "text": [
      "Usuários que gostam de 'Python': [2, 3, 5]\n",
      "Usuários que gostam de 'Big Data': [0, 8, 9]\n",
      "----------------------------------------\n",
      "Interesses em comum com Hero (id 0): Counter({9: 3, 1: 2, 8: 1, 5: 1})\n",
      "Interesses em comum com Dunn (id 1): Counter({0: 2})\n"
     ]
    }
   ],
   "source": [
    "from collections import defaultdict, Counter\n",
    "\n",
    "# Lista de interesses, onde cada tupla é (user_id, \"interesse\").\n",
    "interests = [\n",
    "    (0, \"Hadoop\"), (0, \"Big Data\"), (0, \"HBase\"), (0, \"Java\"),\n",
    "    (0, \"Spark\"), (0, \"Storm\"), (0, \"Cassandra\"),\n",
    "    (1, \"NoSQL\"), (1, \"MongoDB\"), (1, \"Cassandra\"), (1, \"HBase\"),\n",
    "    (1, \"Postgres\"), (2, \"Python\"), (2, \"scikit-learn\"), (2, \"scipy\"),\n",
    "    (2, \"numpy\"), (2, \"statsmodels\"), (2, \"pandas\"), (3, \"R\"), (3, \"Python\"),\n",
    "    (3, \"statistics\"), (3, \"regression\"), (3, \"probability\"),\n",
    "    (4, \"machine learning\"), (4, \"regression\"), (4, \"decision trees\"),\n",
    "    (4, \"libsvm\"), (5, \"Python\"), (5, \"R\"), (5, \"Java\"), (5, \"C++\"),\n",
    "    (5, \"Haskell\"), (5, \"programming languages\"), (6, \"statistics\"),\n",
    "    (6, \"probability\"), (6, \"mathematics\"), (6, \"theory\"),\n",
    "    (7, \"machine learning\"), (7, \"scikit-learn\"), (7, \"Mahout\"),\n",
    "    (7, \"neural networks\"), (8, \"neural networks\"), (8, \"deep learning\"),\n",
    "    (8, \"Big Data\"), (8, \"artificial intelligence\"), (9, \"Hadoop\"),\n",
    "    (9, \"Java\"), (9, \"MapReduce\"), (9, \"Big Data\")\n",
    "]\n",
    "\n",
    "# Função para encontrar os IDs dos usuários que possuem um interesse específico.\n",
    "def data_scientists_who_like(target_interest):\n",
    "    \"\"\"Encontra os IDs dos usuários com o mesmo interesse.\"\"\"\n",
    "    return [user_id\n",
    "            for user_id, user_interest in interests\n",
    "            if user_interest == target_interest]\n",
    "\n",
    "# Exemplo de uso da função data_scientists_who_like:\n",
    "print(f\"Usuários que gostam de 'Python': {data_scientists_who_like('Python')}\")\n",
    "print(f\"Usuários que gostam de 'Big Data': {data_scientists_who_like('Big Data')}\")\n",
    "print(\"-\" * 40)\n",
    "\n",
    "# Mapeia interesses para listas de IDs de usuários.\n",
    "# As chaves são interesses, os valores são listas de user_ids com o interesse em questão.\n",
    "user_ids_by_interest = defaultdict(list)\n",
    "for user_id, interest in interests:\n",
    "    user_ids_by_interest[interest].append(user_id)\n",
    "\n",
    "# Mapeia IDs de usuários para listas de seus interesses.\n",
    "# As chaves são user_ids, os valores são listas de interesses do user_id em questão.\n",
    "interests_by_user_id = defaultdict(list)\n",
    "for user_id, interest in interests:\n",
    "    interests_by_user_id[user_id].append(interest)\n",
    "\n",
    "# Função para encontrar interesses em comum com outros usuários.\n",
    "def most_common_interests_with(user):\n",
    "    \"\"\"\n",
    "    Encontra os IDs de usuários que compartilham interesses com o usuário dado.\n",
    "    Retorna um objeto Counter com os IDs dos usuários e o número de interesses em comum.\n",
    "    \"\"\"\n",
    "    return Counter(\n",
    "        interested_user_id\n",
    "        for interest in interests_by_user_id[user[\"id\"]]     # Para cada interesse do usuário,\n",
    "        for interested_user_id in user_ids_by_interest[interest] # encontre outros usuários com esse interesse\n",
    "        if interested_user_id != user[\"id\"]                  # excluindo o próprio usuário.\n",
    "    )\n",
    "\n",
    "# Exemplos de uso da função most_common_interests_with:\n",
    "# Isso nos mostra quem tem mais interesses em comum com Hero (id 0).\n",
    "print(f\"Interesses em comum com Hero (id 0): {most_common_interests_with(users[0])}\")\n",
    "# Isso nos mostra quem tem mais interesses em comum com Dunn (id 1).\n",
    "print(f\"Interesses em comum com Dunn (id 1): {most_common_interests_with(users[1])}\")"
   ]
  }
 ],
 "metadata": {
  "kernelspec": {
   "display_name": "Python 3",
   "language": "python",
   "name": "python3"
  },
  "language_info": {
   "codemirror_mode": {
    "name": "ipython",
    "version": 3
   },
   "file_extension": ".py",
   "mimetype": "text/x-python",
   "name": "python",
   "nbconvert_exporter": "python",
   "pygments_lexer": "ipython3",
   "version": "3.11.11"
  }
 },
 "nbformat": 4,
 "nbformat_minor": 2
}
