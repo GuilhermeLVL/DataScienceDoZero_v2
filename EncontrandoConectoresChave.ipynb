{
 "cells": [
  {
   "cell_type": "code",
   "execution_count": null,
   "metadata": {},
   "outputs": [],
   "source": [
    "users = [\n",
    " { “id”: 0, “name”: “Hero” },\n",
    " { “id”: 1, “name”: “Dunn” },\n",
    " { “id”: 2, “name”: “Sue” },\n",
    " { “id”: 3, “name”: “Chi” },\n",
    " { “id”: 4, “name”: “Thor” },\n",
    " { “id”: 5, “name”: “Clive” },\n",
    " { “id”: 6, “name”: “Hicks” },\n",
    " { “id”: 7, “name”: “Devin” },\n",
    " { “id”: 8, “name”: “Kate” },\n",
    " { “id”: 9, “name”: “Klein” }\n",
    " ]\n"
   ]
  }
 ],
 "metadata": {
  "kernelspec": {
   "display_name": "Python 3",
   "language": "python",
   "name": "python3"
  },
  "language_info": {
   "name": "python",
   "version": "3.11.11"
  }
 },
 "nbformat": 4,
 "nbformat_minor": 2
}
